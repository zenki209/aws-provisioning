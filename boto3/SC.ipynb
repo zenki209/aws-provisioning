{
 "cells": [
  {
   "cell_type": "code",
   "execution_count": 1,
   "id": "c1468548-89cd-4535-961f-a4e706ea2b10",
   "metadata": {},
   "outputs": [],
   "source": [
    "import boto3"
   ]
  },
  {
   "cell_type": "code",
   "execution_count": null,
   "id": "aab010b5-5b1e-435c-a92d-5555ae180a9e",
   "metadata": {},
   "outputs": [],
   "source": [
    "#create AWS Session"
   ]
  },
  {
   "cell_type": "code",
   "execution_count": null,
   "id": "6fc4d5ce-0a4a-4a32-810e-e833448df547",
   "metadata": {},
   "outputs": [],
   "source": [
    "session = boto3.session.Session(\n",
    "    aws_access_key_id=AWS_CONFIG['prod']['aws_access_key_id'],\n",
    "    aws_secret_access_key=AWS_CONFIG['prod']['aws_secret_access_key'],\n",
    "    region_name=AWS_CONFIG['prod']['region'])"
   ]
  },
  {
   "cell_type": "code",
   "execution_count": 3,
   "id": "293469ac-3f00-473d-8f33-c2e707909499",
   "metadata": {},
   "outputs": [],
   "source": [
    "session=boto3.Session(profile_name='SC-NAB', region_name='ap-southeast-1')"
   ]
  },
  {
   "cell_type": "code",
   "execution_count": 4,
   "id": "0a392467-f142-414a-a5ae-d3e9a30873a2",
   "metadata": {},
   "outputs": [
    {
     "data": {
      "text/plain": [
       "Session(region_name='ap-southeast-1')"
      ]
     },
     "execution_count": 4,
     "metadata": {},
     "output_type": "execute_result"
    }
   ],
   "source": [
    "session"
   ]
  },
  {
   "cell_type": "code",
   "execution_count": null,
   "id": "ada22299-a985-4ed4-85c4-272a12755d8c",
   "metadata": {},
   "outputs": [],
   "source": [
    "#get ec2 in region"
   ]
  },
  {
   "cell_type": "code",
   "execution_count": 7,
   "id": "6c5ec4e2-78e4-47ea-a529-781f23072a62",
   "metadata": {},
   "outputs": [],
   "source": [
    "ec2_instances = session.resource(service_name=\"ec2\")"
   ]
  },
  {
   "cell_type": "code",
   "execution_count": 8,
   "id": "b6d46adc-1e0f-41ad-84dc-5d609a45ffd5",
   "metadata": {},
   "outputs": [
    {
     "data": {
      "text/plain": [
       "ec2.ServiceResource()"
      ]
     },
     "execution_count": 8,
     "metadata": {},
     "output_type": "execute_result"
    }
   ],
   "source": [
    "ec2_instances"
   ]
  },
  {
   "cell_type": "code",
   "execution_count": 15,
   "id": "4a416228-6104-45b1-b588-ae86e70e1944",
   "metadata": {},
   "outputs": [
    {
     "name": "stdout",
     "output_type": "stream",
     "text": [
      "ec2.Instance(id='i-0c9f407ba8152e8c1')\n",
      "ec2.Instance(id='i-0ea8b905903525918')\n"
     ]
    }
   ],
   "source": [
    "for instance in ec2_instances.instances.all(): \n",
    "    print(instance)"
   ]
  },
  {
   "cell_type": "code",
   "execution_count": 19,
   "id": "8baf47d7-6076-4481-a1fe-cdc6d1ce8c31",
   "metadata": {},
   "outputs": [],
   "source": [
    "#get tag . Look at the doccument guideline here  \n",
    "https://boto3.amazonaws.com/v1/documentation/api/latest/reference/services/ec2/tag/index.html \n",
    "https://boto3.amazonaws.com/v1/documentation/api/latest/reference/services/ec2/instance/tags.html"
   ]
  },
  {
   "cell_type": "code",
   "execution_count": 18,
   "id": "98c47836-a943-4aa0-80e2-a1c7d1b0f59a",
   "metadata": {},
   "outputs": [
    {
     "name": "stdout",
     "output_type": "stream",
     "text": [
      "{'Key': 'Name', 'Value': 'u2204'}\n",
      "{'Key': 'Name', 'Value': 'KHOA-LAB'}\n"
     ]
    }
   ],
   "source": [
    "for instance in ec2_instances.instances.all(): \n",
    "    for tag in instance.tags: \n",
    "        print(tag)"
   ]
  },
  {
   "cell_type": "code",
   "execution_count": null,
   "id": "0009e541-8aca-412e-920f-ca2922c49944",
   "metadata": {},
   "outputs": [],
   "source": [
    "#create ec2 by boto3. Look at the document how to create the ec2 \n",
    "https://boto3.amazonaws.com/v1/documentation/api/latest/reference/services/ec2/service-resource/index.html  \n",
    "https://boto3.amazonaws.com/v1/documentation/api/latest/reference/services/ec2/service-resource/create_instances.html"
   ]
  },
  {
   "cell_type": "code",
   "execution_count": 30,
   "id": "120244b7-8991-424a-987e-c1a2cef595e3",
   "metadata": {},
   "outputs": [],
   "source": [
    "instances = ec2_instances.create_instances(\n",
    "    ImageId='ami-0acb5e61d5d7b19c8',\n",
    "    MinCount=1,\n",
    "    MaxCount=1,\n",
    "    InstanceType='t2.micro',\n",
    "    SubnetId='subnet-00be707b2e04e40d5',\n",
    "TagSpecifications=[\n",
    "    {\n",
    "        'ResourceType': 'instance',\n",
    "        'Tags': [\n",
    "            {\n",
    "                'Key': 'Name',\n",
    "                'Value': 'NAB-STARTCAMP'\n",
    "            },\n",
    "        ]\n",
    "    },\n",
    "]\n",
    ")"
   ]
  },
  {
   "cell_type": "code",
   "execution_count": null,
   "id": "d0dddbd9-ba11-416d-a9f7-000529c162b4",
   "metadata": {},
   "outputs": [],
   "source": [
    "#Exercise how to update the tag"
   ]
  },
  {
   "cell_type": "code",
   "execution_count": 31,
   "id": "6ef3ad38-6694-4321-bede-b531b5f18518",
   "metadata": {},
   "outputs": [],
   "source": [
    "#Using create tags searching the document \n",
    "https://boto3.amazonaws.com/v1/documentation/api/latest/reference/services/ec2/service-resource/create_tags.html"
   ]
  },
  {
   "cell_type": "code",
   "execution_count": null,
   "id": "5bfec6cd-57ad-45fe-a3e5-056b16711d86",
   "metadata": {},
   "outputs": [],
   "source": [
    "response = ec2.create_tags(\n",
    "    DryRun=True|False,\n",
    "    Resources=[\n",
    "        'string',\n",
    "    ],\n",
    "    Tags=[\n",
    "        {\n",
    "            'Key': 'string',\n",
    "            'Value': 'string'\n",
    "        },\n",
    "    ]\n",
    ")"
   ]
  }
 ],
 "metadata": {
  "kernelspec": {
   "display_name": "Python 3 (ipykernel)",
   "language": "python",
   "name": "python3"
  },
  "language_info": {
   "codemirror_mode": {
    "name": "ipython",
    "version": 3
   },
   "file_extension": ".py",
   "mimetype": "text/x-python",
   "name": "python",
   "nbconvert_exporter": "python",
   "pygments_lexer": "ipython3",
   "version": "3.11.4"
  }
 },
 "nbformat": 4,
 "nbformat_minor": 5
}
